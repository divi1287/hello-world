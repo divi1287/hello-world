{
  "cells": [
    {
      "cell_type": "markdown",
      "metadata": {
        "id": "view-in-github",
        "colab_type": "text"
      },
      "source": [
        "<a href=\"https://colab.research.google.com/github/divi1287/hello-world/blob/main/DEMO_5_ICC_DATA_MANIPULATION.ipynb\" target=\"_parent\"><img src=\"https://colab.research.google.com/assets/colab-badge.svg\" alt=\"Open In Colab\"/></a>"
      ]
    },
    {
      "cell_type": "markdown",
      "id": "51babb99",
      "metadata": {
        "id": "51babb99"
      },
      "source": [
        "## Import Libraries"
      ]
    },
    {
      "cell_type": "code",
      "execution_count": null,
      "id": "2051c34f",
      "metadata": {
        "ExecuteTime": {
          "end_time": "2022-04-13T14:35:51.309145Z",
          "start_time": "2022-04-13T14:35:47.869773Z"
        },
        "id": "2051c34f"
      },
      "outputs": [],
      "source": [
        "import pandas as pd \n",
        "import numpy as np"
      ]
    },
    {
      "cell_type": "code",
      "execution_count": null,
      "id": "b2ff99e7",
      "metadata": {
        "ExecuteTime": {
          "end_time": "2022-04-13T14:36:35.247204Z",
          "start_time": "2022-04-13T14:36:35.228273Z"
        },
        "id": "b2ff99e7"
      },
      "outputs": [],
      "source": [
        "# create a pandas series of integers from 1 to 50\n",
        "my_series = pd.Series(np.arange(1, 51, 1)) #np.range(1,51,1)"
      ]
    },
    {
      "cell_type": "markdown",
      "id": "1fa1675c",
      "metadata": {
        "id": "1fa1675c"
      },
      "source": [
        "## head() - Check the first 5 elements"
      ]
    },
    {
      "cell_type": "code",
      "execution_count": null,
      "id": "8bd63c5e",
      "metadata": {
        "ExecuteTime": {
          "end_time": "2022-04-13T14:36:52.911463Z",
          "start_time": "2022-04-13T14:36:52.851332Z"
        },
        "id": "8bd63c5e",
        "outputId": "4a85e9ea-5850-4560-81e0-0ab58124755e"
      },
      "outputs": [
        {
          "data": {
            "text/plain": [
              "0    1\n",
              "1    2\n",
              "2    3\n",
              "3    4\n",
              "4    5\n",
              "dtype: int32"
            ]
          },
          "execution_count": 3,
          "metadata": {},
          "output_type": "execute_result"
        }
      ],
      "source": [
        "my_series.head()"
      ]
    },
    {
      "cell_type": "markdown",
      "id": "bf3a38b7",
      "metadata": {
        "id": "bf3a38b7"
      },
      "source": [
        "## tail() - check the last 5 elements"
      ]
    },
    {
      "cell_type": "code",
      "execution_count": null,
      "id": "e59e44c0",
      "metadata": {
        "ExecuteTime": {
          "end_time": "2022-04-13T14:37:11.380903Z",
          "start_time": "2022-04-13T14:37:11.326146Z"
        },
        "id": "e59e44c0",
        "outputId": "757d9274-4c47-4cce-e273-21280aaf19d0"
      },
      "outputs": [
        {
          "data": {
            "text/plain": [
              "45    46\n",
              "46    47\n",
              "47    48\n",
              "48    49\n",
              "49    50\n",
              "dtype: int32"
            ]
          },
          "execution_count": 4,
          "metadata": {},
          "output_type": "execute_result"
        }
      ],
      "source": [
        "my_series.tail()"
      ]
    },
    {
      "cell_type": "markdown",
      "id": "5ffbee04",
      "metadata": {
        "id": "5ffbee04"
      },
      "source": [
        "## Extract only the values of the series (without the indices)"
      ]
    },
    {
      "cell_type": "code",
      "execution_count": null,
      "id": "0954a923",
      "metadata": {
        "ExecuteTime": {
          "end_time": "2022-04-13T14:39:43.703800Z",
          "start_time": "2022-04-13T14:39:43.691313Z"
        },
        "id": "0954a923",
        "outputId": "fa927fdc-6d9d-4e67-c3a5-1ec8a870b381"
      },
      "outputs": [
        {
          "data": {
            "text/plain": [
              "array([ 1,  2,  3,  4,  5,  6,  7,  8,  9, 10, 11, 12, 13, 14, 15, 16, 17,\n",
              "       18, 19, 20, 21, 22, 23, 24, 25, 26, 27, 28, 29, 30, 31, 32, 33, 34,\n",
              "       35, 36, 37, 38, 39, 40, 41, 42, 43, 44, 45, 46, 47, 48, 49, 50])"
            ]
          },
          "execution_count": 5,
          "metadata": {},
          "output_type": "execute_result"
        }
      ],
      "source": [
        "my_series.values"
      ]
    },
    {
      "cell_type": "code",
      "execution_count": null,
      "id": "375bfb89",
      "metadata": {
        "ExecuteTime": {
          "end_time": "2022-04-13T14:40:43.406190Z",
          "start_time": "2022-04-13T14:40:43.392674Z"
        },
        "id": "375bfb89"
      },
      "outputs": [],
      "source": [
        "# my_series"
      ]
    },
    {
      "cell_type": "markdown",
      "id": "901819ca",
      "metadata": {
        "id": "901819ca"
      },
      "source": [
        "## groupby()"
      ]
    },
    {
      "cell_type": "code",
      "execution_count": null,
      "id": "ab248958",
      "metadata": {
        "ExecuteTime": {
          "end_time": "2022-04-13T14:42:06.659048Z",
          "start_time": "2022-04-13T14:42:06.643019Z"
        },
        "id": "ab248958"
      },
      "outputs": [],
      "source": [
        "# create a dictionary `world_cup` to be used to build a dataframe\n",
        "\n",
        "world_cup = {'team' : ['West Indies', 'West Indies', 'India', 'Australia', 'Pakistan', 'Sri Lanka', 'Australia', 'Australia', 'Australia' ,'England'],\n",
        "             'Rank' : [7,7,2,1,6,4,1,1,1,2],\n",
        "             'Year' : [1975,1979,1983,1987,1992,1996,1999,2003,2007,2011],\n",
        "             'Points' : [875,756,786,718,726,662,680,711,531,599]}\n",
        "world_cup = {'Team':['West Indies','West Indies','India','Australia','Pakistan','Sri Lanka','Australia','Australia','Australia','India','Australia'],\n",
        "             'Rank':[7,7,2,1,6,4,1,1,1,2,1],\n",
        "             'Year':[1975,1979,1983,1987,1992,1996,1999,2003,2007,2011,2015]}\n"
      ]
    },
    {
      "cell_type": "code",
      "execution_count": null,
      "id": "d1c8d0e6",
      "metadata": {
        "ExecuteTime": {
          "end_time": "2022-04-13T14:42:47.904466Z",
          "start_time": "2022-04-13T14:42:47.861935Z"
        },
        "id": "d1c8d0e6",
        "outputId": "66bc5500-53cc-487a-cd30-df5bbb7ae7d5"
      },
      "outputs": [
        {
          "data": {
            "text/html": [
              "<div>\n",
              "<style scoped>\n",
              "    .dataframe tbody tr th:only-of-type {\n",
              "        vertical-align: middle;\n",
              "    }\n",
              "\n",
              "    .dataframe tbody tr th {\n",
              "        vertical-align: top;\n",
              "    }\n",
              "\n",
              "    .dataframe thead th {\n",
              "        text-align: right;\n",
              "    }\n",
              "</style>\n",
              "<table border=\"1\" class=\"dataframe\">\n",
              "  <thead>\n",
              "    <tr style=\"text-align: right;\">\n",
              "      <th></th>\n",
              "      <th>Team</th>\n",
              "      <th>Rank</th>\n",
              "      <th>Year</th>\n",
              "    </tr>\n",
              "  </thead>\n",
              "  <tbody>\n",
              "    <tr>\n",
              "      <th>0</th>\n",
              "      <td>West Indies</td>\n",
              "      <td>7</td>\n",
              "      <td>1975</td>\n",
              "    </tr>\n",
              "    <tr>\n",
              "      <th>1</th>\n",
              "      <td>West Indies</td>\n",
              "      <td>7</td>\n",
              "      <td>1979</td>\n",
              "    </tr>\n",
              "    <tr>\n",
              "      <th>2</th>\n",
              "      <td>India</td>\n",
              "      <td>2</td>\n",
              "      <td>1983</td>\n",
              "    </tr>\n",
              "    <tr>\n",
              "      <th>3</th>\n",
              "      <td>Australia</td>\n",
              "      <td>1</td>\n",
              "      <td>1987</td>\n",
              "    </tr>\n",
              "    <tr>\n",
              "      <th>4</th>\n",
              "      <td>Pakistan</td>\n",
              "      <td>6</td>\n",
              "      <td>1992</td>\n",
              "    </tr>\n",
              "    <tr>\n",
              "      <th>5</th>\n",
              "      <td>Sri Lanka</td>\n",
              "      <td>4</td>\n",
              "      <td>1996</td>\n",
              "    </tr>\n",
              "    <tr>\n",
              "      <th>6</th>\n",
              "      <td>Australia</td>\n",
              "      <td>1</td>\n",
              "      <td>1999</td>\n",
              "    </tr>\n",
              "    <tr>\n",
              "      <th>7</th>\n",
              "      <td>Australia</td>\n",
              "      <td>1</td>\n",
              "      <td>2003</td>\n",
              "    </tr>\n",
              "    <tr>\n",
              "      <th>8</th>\n",
              "      <td>Australia</td>\n",
              "      <td>1</td>\n",
              "      <td>2007</td>\n",
              "    </tr>\n",
              "    <tr>\n",
              "      <th>9</th>\n",
              "      <td>India</td>\n",
              "      <td>2</td>\n",
              "      <td>2011</td>\n",
              "    </tr>\n",
              "    <tr>\n",
              "      <th>10</th>\n",
              "      <td>Australia</td>\n",
              "      <td>1</td>\n",
              "      <td>2015</td>\n",
              "    </tr>\n",
              "  </tbody>\n",
              "</table>\n",
              "</div>"
            ],
            "text/plain": [
              "           Team  Rank  Year\n",
              "0   West Indies     7  1975\n",
              "1   West Indies     7  1979\n",
              "2         India     2  1983\n",
              "3     Australia     1  1987\n",
              "4      Pakistan     6  1992\n",
              "5     Sri Lanka     4  1996\n",
              "6     Australia     1  1999\n",
              "7     Australia     1  2003\n",
              "8     Australia     1  2007\n",
              "9         India     2  2011\n",
              "10    Australia     1  2015"
            ]
          },
          "execution_count": 9,
          "metadata": {},
          "output_type": "execute_result"
        }
      ],
      "source": [
        "# create a dataframe using the above world_cup dictionary elements\n",
        "df = pd.DataFrame(world_cup)\n",
        "df"
      ]
    },
    {
      "cell_type": "code",
      "execution_count": null,
      "id": "4923c04e",
      "metadata": {
        "ExecuteTime": {
          "end_time": "2022-04-13T14:45:47.894008Z",
          "start_time": "2022-04-13T14:45:47.853991Z"
        },
        "id": "4923c04e",
        "outputId": "c6f92afd-5dbf-423e-b00d-194cc3af8bce"
      },
      "outputs": [
        {
          "data": {
            "text/plain": [
              "Team\n",
              "Australia      1\n",
              "India          2\n",
              "Pakistan       6\n",
              "Sri Lanka      4\n",
              "West Indies    7\n",
              "Name: Rank, dtype: int64"
            ]
          },
          "execution_count": 10,
          "metadata": {},
          "output_type": "execute_result"
        }
      ],
      "source": [
        "# highest ranking achieved by each of the teams\n",
        "df.groupby('Team')['Rank'].min()\n"
      ]
    },
    {
      "cell_type": "code",
      "execution_count": null,
      "id": "67d60b89",
      "metadata": {
        "ExecuteTime": {
          "end_time": "2022-04-13T14:58:13.084287Z",
          "start_time": "2022-04-13T14:58:12.999109Z"
        },
        "id": "67d60b89",
        "outputId": "5812bf1f-c8ee-4ee5-97bb-edd2a3cfb0a8"
      },
      "outputs": [
        {
          "data": {
            "text/plain": [
              "Team\n",
              "Australia      5\n",
              "India          2\n",
              "Pakistan       1\n",
              "Sri Lanka      1\n",
              "West Indies    2\n",
              "dtype: int64"
            ]
          },
          "execution_count": 15,
          "metadata": {},
          "output_type": "execute_result"
        }
      ],
      "source": [
        "df.groupby('Team').size()"
      ]
    },
    {
      "cell_type": "code",
      "execution_count": null,
      "id": "f63f1abe",
      "metadata": {
        "ExecuteTime": {
          "end_time": "2022-04-13T14:58:28.779472Z",
          "start_time": "2022-04-13T14:58:28.746971Z"
        },
        "id": "f63f1abe",
        "outputId": "66ec62f3-9b80-4444-c1d4-c580c2b30b66"
      },
      "outputs": [
        {
          "data": {
            "text/html": [
              "<div>\n",
              "<style scoped>\n",
              "    .dataframe tbody tr th:only-of-type {\n",
              "        vertical-align: middle;\n",
              "    }\n",
              "\n",
              "    .dataframe tbody tr th {\n",
              "        vertical-align: top;\n",
              "    }\n",
              "\n",
              "    .dataframe thead th {\n",
              "        text-align: right;\n",
              "    }\n",
              "</style>\n",
              "<table border=\"1\" class=\"dataframe\">\n",
              "  <thead>\n",
              "    <tr style=\"text-align: right;\">\n",
              "      <th></th>\n",
              "      <th>Rank</th>\n",
              "      <th>Year</th>\n",
              "    </tr>\n",
              "    <tr>\n",
              "      <th>Team</th>\n",
              "      <th></th>\n",
              "      <th></th>\n",
              "    </tr>\n",
              "  </thead>\n",
              "  <tbody>\n",
              "    <tr>\n",
              "      <th>Australia</th>\n",
              "      <td>5</td>\n",
              "      <td>5</td>\n",
              "    </tr>\n",
              "    <tr>\n",
              "      <th>India</th>\n",
              "      <td>2</td>\n",
              "      <td>2</td>\n",
              "    </tr>\n",
              "    <tr>\n",
              "      <th>Pakistan</th>\n",
              "      <td>1</td>\n",
              "      <td>1</td>\n",
              "    </tr>\n",
              "    <tr>\n",
              "      <th>Sri Lanka</th>\n",
              "      <td>1</td>\n",
              "      <td>1</td>\n",
              "    </tr>\n",
              "    <tr>\n",
              "      <th>West Indies</th>\n",
              "      <td>2</td>\n",
              "      <td>2</td>\n",
              "    </tr>\n",
              "  </tbody>\n",
              "</table>\n",
              "</div>"
            ],
            "text/plain": [
              "             Rank  Year\n",
              "Team                   \n",
              "Australia       5     5\n",
              "India           2     2\n",
              "Pakistan        1     1\n",
              "Sri Lanka       1     1\n",
              "West Indies     2     2"
            ]
          },
          "execution_count": 16,
          "metadata": {},
          "output_type": "execute_result"
        }
      ],
      "source": [
        "df.groupby('Team').count()"
      ]
    },
    {
      "cell_type": "code",
      "execution_count": null,
      "id": "f1e7686a",
      "metadata": {
        "ExecuteTime": {
          "end_time": "2022-04-13T14:59:23.358626Z",
          "start_time": "2022-04-13T14:59:23.306683Z"
        },
        "id": "f1e7686a",
        "outputId": "2b2b21a2-a6fc-49b0-f924-8f11946f8330"
      },
      "outputs": [
        {
          "data": {
            "text/plain": [
              "Team\n",
              "Australia      2015\n",
              "India          2011\n",
              "Pakistan       1992\n",
              "Sri Lanka      1996\n",
              "West Indies    1979\n",
              "Name: Year, dtype: int64"
            ]
          },
          "execution_count": 17,
          "metadata": {},
          "output_type": "execute_result"
        }
      ],
      "source": [
        "# what is the latest year in which each team won the world cup\n",
        "\n",
        "df.groupby('Team')['Year'].max() # aggregation function - min,max,mean,median,mode"
      ]
    },
    {
      "cell_type": "markdown",
      "id": "7b29a20e",
      "metadata": {
        "id": "7b29a20e"
      },
      "source": [
        "## Concatenation"
      ]
    },
    {
      "cell_type": "code",
      "execution_count": null,
      "id": "f9e0d5de",
      "metadata": {
        "ExecuteTime": {
          "end_time": "2022-04-13T15:01:59.705681Z",
          "start_time": "2022-04-13T15:01:59.695704Z"
        },
        "id": "f9e0d5de"
      },
      "outputs": [],
      "source": [
        "# create a dictionary 'world_champions'\n",
        "world_champions = {'Team':['India','Australia','West Indies','Pakistan','Sri Lanka'],\n",
        "                   'ICC_rank':[2,3,7,8,4],\n",
        "                   'World_champions_Year':[2011,2015,1979,1992,1996],\n",
        "                   'Points':[874,787,753,673,855]}"
      ]
    },
    {
      "cell_type": "code",
      "execution_count": null,
      "id": "40704eb2",
      "metadata": {
        "ExecuteTime": {
          "end_time": "2022-04-13T15:02:35.995969Z",
          "start_time": "2022-04-13T15:02:35.989213Z"
        },
        "id": "40704eb2"
      },
      "outputs": [],
      "source": [
        "# create a dictionary of chokers\n",
        "chokers = {'Team':['South Africa','New Zealand','Zimbabwe'],\n",
        "                   'ICC_rank':[1,5,9],\n",
        "                   'Points':[895,764,656]}"
      ]
    },
    {
      "cell_type": "code",
      "execution_count": null,
      "id": "6556c0e0",
      "metadata": {
        "ExecuteTime": {
          "end_time": "2022-04-13T15:03:48.304401Z",
          "start_time": "2022-04-13T15:03:48.291878Z"
        },
        "id": "6556c0e0"
      },
      "outputs": [],
      "source": [
        "# create dataframe of world_champions\n",
        "df1 = pd.DataFrame(world_champions)\n",
        "\n",
        "# create dataframe of chokers\n",
        "df2 = pd.DataFrame(chokers)"
      ]
    },
    {
      "cell_type": "code",
      "execution_count": null,
      "id": "11851425",
      "metadata": {
        "ExecuteTime": {
          "end_time": "2022-04-13T15:03:54.216786Z",
          "start_time": "2022-04-13T15:03:54.183731Z"
        },
        "id": "11851425",
        "outputId": "f3886f17-79a5-47f9-d5fd-ffde8d7b69ad"
      },
      "outputs": [
        {
          "data": {
            "text/html": [
              "<div>\n",
              "<style scoped>\n",
              "    .dataframe tbody tr th:only-of-type {\n",
              "        vertical-align: middle;\n",
              "    }\n",
              "\n",
              "    .dataframe tbody tr th {\n",
              "        vertical-align: top;\n",
              "    }\n",
              "\n",
              "    .dataframe thead th {\n",
              "        text-align: right;\n",
              "    }\n",
              "</style>\n",
              "<table border=\"1\" class=\"dataframe\">\n",
              "  <thead>\n",
              "    <tr style=\"text-align: right;\">\n",
              "      <th></th>\n",
              "      <th>Team</th>\n",
              "      <th>ICC_rank</th>\n",
              "      <th>World_champions_Year</th>\n",
              "      <th>Points</th>\n",
              "    </tr>\n",
              "  </thead>\n",
              "  <tbody>\n",
              "    <tr>\n",
              "      <th>0</th>\n",
              "      <td>India</td>\n",
              "      <td>2</td>\n",
              "      <td>2011</td>\n",
              "      <td>874</td>\n",
              "    </tr>\n",
              "    <tr>\n",
              "      <th>1</th>\n",
              "      <td>Australia</td>\n",
              "      <td>3</td>\n",
              "      <td>2015</td>\n",
              "      <td>787</td>\n",
              "    </tr>\n",
              "    <tr>\n",
              "      <th>2</th>\n",
              "      <td>West Indies</td>\n",
              "      <td>7</td>\n",
              "      <td>1979</td>\n",
              "      <td>753</td>\n",
              "    </tr>\n",
              "    <tr>\n",
              "      <th>3</th>\n",
              "      <td>Pakistan</td>\n",
              "      <td>8</td>\n",
              "      <td>1992</td>\n",
              "      <td>673</td>\n",
              "    </tr>\n",
              "    <tr>\n",
              "      <th>4</th>\n",
              "      <td>Sri Lanka</td>\n",
              "      <td>4</td>\n",
              "      <td>1996</td>\n",
              "      <td>855</td>\n",
              "    </tr>\n",
              "  </tbody>\n",
              "</table>\n",
              "</div>"
            ],
            "text/plain": [
              "          Team  ICC_rank  World_champions_Year  Points\n",
              "0        India         2                  2011     874\n",
              "1    Australia         3                  2015     787\n",
              "2  West Indies         7                  1979     753\n",
              "3     Pakistan         8                  1992     673\n",
              "4    Sri Lanka         4                  1996     855"
            ]
          },
          "execution_count": 21,
          "metadata": {},
          "output_type": "execute_result"
        }
      ],
      "source": [
        "# print the dataframes\n",
        "df1"
      ]
    },
    {
      "cell_type": "code",
      "execution_count": null,
      "id": "9f03892a",
      "metadata": {
        "ExecuteTime": {
          "end_time": "2022-04-13T15:04:09.483873Z",
          "start_time": "2022-04-13T15:04:09.460871Z"
        },
        "id": "9f03892a",
        "outputId": "ed6ce7df-309f-491f-c622-b1bb2a52395a"
      },
      "outputs": [
        {
          "data": {
            "text/html": [
              "<div>\n",
              "<style scoped>\n",
              "    .dataframe tbody tr th:only-of-type {\n",
              "        vertical-align: middle;\n",
              "    }\n",
              "\n",
              "    .dataframe tbody tr th {\n",
              "        vertical-align: top;\n",
              "    }\n",
              "\n",
              "    .dataframe thead th {\n",
              "        text-align: right;\n",
              "    }\n",
              "</style>\n",
              "<table border=\"1\" class=\"dataframe\">\n",
              "  <thead>\n",
              "    <tr style=\"text-align: right;\">\n",
              "      <th></th>\n",
              "      <th>Team</th>\n",
              "      <th>ICC_rank</th>\n",
              "      <th>Points</th>\n",
              "    </tr>\n",
              "  </thead>\n",
              "  <tbody>\n",
              "    <tr>\n",
              "      <th>0</th>\n",
              "      <td>South Africa</td>\n",
              "      <td>1</td>\n",
              "      <td>895</td>\n",
              "    </tr>\n",
              "    <tr>\n",
              "      <th>1</th>\n",
              "      <td>New Zealand</td>\n",
              "      <td>5</td>\n",
              "      <td>764</td>\n",
              "    </tr>\n",
              "    <tr>\n",
              "      <th>2</th>\n",
              "      <td>Zimbabwe</td>\n",
              "      <td>9</td>\n",
              "      <td>656</td>\n",
              "    </tr>\n",
              "  </tbody>\n",
              "</table>\n",
              "</div>"
            ],
            "text/plain": [
              "           Team  ICC_rank  Points\n",
              "0  South Africa         1     895\n",
              "1   New Zealand         5     764\n",
              "2      Zimbabwe         9     656"
            ]
          },
          "execution_count": 22,
          "metadata": {},
          "output_type": "execute_result"
        }
      ],
      "source": [
        "df2"
      ]
    },
    {
      "cell_type": "code",
      "execution_count": null,
      "id": "9097e441",
      "metadata": {
        "ExecuteTime": {
          "end_time": "2022-04-13T15:06:45.128393Z",
          "start_time": "2022-04-13T15:06:45.084277Z"
        },
        "id": "9097e441",
        "outputId": "1d0b63bd-8243-4811-de6a-0492a81e94a5"
      },
      "outputs": [
        {
          "data": {
            "text/html": [
              "<div>\n",
              "<style scoped>\n",
              "    .dataframe tbody tr th:only-of-type {\n",
              "        vertical-align: middle;\n",
              "    }\n",
              "\n",
              "    .dataframe tbody tr th {\n",
              "        vertical-align: top;\n",
              "    }\n",
              "\n",
              "    .dataframe thead th {\n",
              "        text-align: right;\n",
              "    }\n",
              "</style>\n",
              "<table border=\"1\" class=\"dataframe\">\n",
              "  <thead>\n",
              "    <tr style=\"text-align: right;\">\n",
              "      <th></th>\n",
              "      <th>Team</th>\n",
              "      <th>ICC_rank</th>\n",
              "      <th>World_champions_Year</th>\n",
              "      <th>Points</th>\n",
              "    </tr>\n",
              "  </thead>\n",
              "  <tbody>\n",
              "    <tr>\n",
              "      <th>0</th>\n",
              "      <td>India</td>\n",
              "      <td>2</td>\n",
              "      <td>2011.0</td>\n",
              "      <td>874</td>\n",
              "    </tr>\n",
              "    <tr>\n",
              "      <th>1</th>\n",
              "      <td>Australia</td>\n",
              "      <td>3</td>\n",
              "      <td>2015.0</td>\n",
              "      <td>787</td>\n",
              "    </tr>\n",
              "    <tr>\n",
              "      <th>2</th>\n",
              "      <td>West Indies</td>\n",
              "      <td>7</td>\n",
              "      <td>1979.0</td>\n",
              "      <td>753</td>\n",
              "    </tr>\n",
              "    <tr>\n",
              "      <th>3</th>\n",
              "      <td>Pakistan</td>\n",
              "      <td>8</td>\n",
              "      <td>1992.0</td>\n",
              "      <td>673</td>\n",
              "    </tr>\n",
              "    <tr>\n",
              "      <th>4</th>\n",
              "      <td>Sri Lanka</td>\n",
              "      <td>4</td>\n",
              "      <td>1996.0</td>\n",
              "      <td>855</td>\n",
              "    </tr>\n",
              "    <tr>\n",
              "      <th>5</th>\n",
              "      <td>South Africa</td>\n",
              "      <td>1</td>\n",
              "      <td>NaN</td>\n",
              "      <td>895</td>\n",
              "    </tr>\n",
              "    <tr>\n",
              "      <th>6</th>\n",
              "      <td>New Zealand</td>\n",
              "      <td>5</td>\n",
              "      <td>NaN</td>\n",
              "      <td>764</td>\n",
              "    </tr>\n",
              "    <tr>\n",
              "      <th>7</th>\n",
              "      <td>Zimbabwe</td>\n",
              "      <td>9</td>\n",
              "      <td>NaN</td>\n",
              "      <td>656</td>\n",
              "    </tr>\n",
              "  </tbody>\n",
              "</table>\n",
              "</div>"
            ],
            "text/plain": [
              "           Team  ICC_rank  World_champions_Year  Points\n",
              "0         India         2                2011.0     874\n",
              "1     Australia         3                2015.0     787\n",
              "2   West Indies         7                1979.0     753\n",
              "3      Pakistan         8                1992.0     673\n",
              "4     Sri Lanka         4                1996.0     855\n",
              "5  South Africa         1                   NaN     895\n",
              "6   New Zealand         5                   NaN     764\n",
              "7      Zimbabwe         9                   NaN     656"
            ]
          },
          "execution_count": 23,
          "metadata": {},
          "output_type": "execute_result"
        }
      ],
      "source": [
        "# concatenate the daraframes\n",
        "pd.concat([df1,df2],ignore_index=True)"
      ]
    },
    {
      "cell_type": "markdown",
      "id": "ad5957e2",
      "metadata": {
        "id": "ad5957e2"
      },
      "source": [
        "## Merge"
      ]
    },
    {
      "cell_type": "code",
      "execution_count": null,
      "id": "84412950",
      "metadata": {
        "ExecuteTime": {
          "end_time": "2022-04-13T15:09:53.731642Z",
          "start_time": "2022-04-13T15:09:53.718056Z"
        },
        "id": "84412950"
      },
      "outputs": [],
      "source": [
        "# create a dictionary of champion_stats\n",
        "champion_stats = {'Team':['India','Australia','West Indies','Pakistan','Sri Lanka'],\n",
        "                   'ICC_rank':[2,3,7,8,4],\n",
        "                   'World_champions_Year':[2011,2015,1979,1992,1996],\n",
        "                   'Points':[874,787,753,673,855]}"
      ]
    },
    {
      "cell_type": "code",
      "execution_count": null,
      "id": "2c5058af",
      "metadata": {
        "ExecuteTime": {
          "end_time": "2022-04-13T15:10:00.534257Z",
          "start_time": "2022-04-13T15:10:00.520744Z"
        },
        "id": "2c5058af"
      },
      "outputs": [],
      "source": [
        "# create a dictionary of match stats\n",
        "match_stats = {'Team':['India','Australia','West Indies','Pakistan','Sri Lanka'],\n",
        "                   'World_cup_played':[11,10,11,9,8],\n",
        "                   'ODIs_played':[733,988,712,679,662]}"
      ]
    },
    {
      "cell_type": "code",
      "execution_count": null,
      "id": "8cae09c0",
      "metadata": {
        "ExecuteTime": {
          "end_time": "2022-04-13T15:11:39.237408Z",
          "start_time": "2022-04-13T15:11:39.214165Z"
        },
        "id": "8cae09c0"
      },
      "outputs": [],
      "source": [
        "# create dataframe of champion stats\n",
        "df1 = pd.DataFrame(champion_stats)\n",
        "\n",
        "# create dataframe of match stats\n",
        "df2 = pd.DataFrame(match_stats)\n"
      ]
    },
    {
      "cell_type": "code",
      "execution_count": null,
      "id": "d96195ff",
      "metadata": {
        "ExecuteTime": {
          "end_time": "2022-04-13T15:11:45.072468Z",
          "start_time": "2022-04-13T15:11:45.044239Z"
        },
        "id": "d96195ff",
        "outputId": "18b393c6-feb0-41e4-b4d1-995da04b054d"
      },
      "outputs": [
        {
          "data": {
            "text/html": [
              "<div>\n",
              "<style scoped>\n",
              "    .dataframe tbody tr th:only-of-type {\n",
              "        vertical-align: middle;\n",
              "    }\n",
              "\n",
              "    .dataframe tbody tr th {\n",
              "        vertical-align: top;\n",
              "    }\n",
              "\n",
              "    .dataframe thead th {\n",
              "        text-align: right;\n",
              "    }\n",
              "</style>\n",
              "<table border=\"1\" class=\"dataframe\">\n",
              "  <thead>\n",
              "    <tr style=\"text-align: right;\">\n",
              "      <th></th>\n",
              "      <th>Team</th>\n",
              "      <th>ICC_rank</th>\n",
              "      <th>World_champions_Year</th>\n",
              "      <th>Points</th>\n",
              "    </tr>\n",
              "  </thead>\n",
              "  <tbody>\n",
              "    <tr>\n",
              "      <th>0</th>\n",
              "      <td>India</td>\n",
              "      <td>2</td>\n",
              "      <td>2011</td>\n",
              "      <td>874</td>\n",
              "    </tr>\n",
              "    <tr>\n",
              "      <th>1</th>\n",
              "      <td>Australia</td>\n",
              "      <td>3</td>\n",
              "      <td>2015</td>\n",
              "      <td>787</td>\n",
              "    </tr>\n",
              "    <tr>\n",
              "      <th>2</th>\n",
              "      <td>West Indies</td>\n",
              "      <td>7</td>\n",
              "      <td>1979</td>\n",
              "      <td>753</td>\n",
              "    </tr>\n",
              "    <tr>\n",
              "      <th>3</th>\n",
              "      <td>Pakistan</td>\n",
              "      <td>8</td>\n",
              "      <td>1992</td>\n",
              "      <td>673</td>\n",
              "    </tr>\n",
              "    <tr>\n",
              "      <th>4</th>\n",
              "      <td>Sri Lanka</td>\n",
              "      <td>4</td>\n",
              "      <td>1996</td>\n",
              "      <td>855</td>\n",
              "    </tr>\n",
              "  </tbody>\n",
              "</table>\n",
              "</div>"
            ],
            "text/plain": [
              "          Team  ICC_rank  World_champions_Year  Points\n",
              "0        India         2                  2011     874\n",
              "1    Australia         3                  2015     787\n",
              "2  West Indies         7                  1979     753\n",
              "3     Pakistan         8                  1992     673\n",
              "4    Sri Lanka         4                  1996     855"
            ]
          },
          "execution_count": 27,
          "metadata": {},
          "output_type": "execute_result"
        }
      ],
      "source": [
        "# print the dataframes\n",
        "df1"
      ]
    },
    {
      "cell_type": "code",
      "execution_count": null,
      "id": "4ed82b59",
      "metadata": {
        "ExecuteTime": {
          "end_time": "2022-04-13T15:11:52.909897Z",
          "start_time": "2022-04-13T15:11:52.889881Z"
        },
        "id": "4ed82b59",
        "outputId": "79e51027-d074-4c09-f37e-89ce352d1831"
      },
      "outputs": [
        {
          "data": {
            "text/html": [
              "<div>\n",
              "<style scoped>\n",
              "    .dataframe tbody tr th:only-of-type {\n",
              "        vertical-align: middle;\n",
              "    }\n",
              "\n",
              "    .dataframe tbody tr th {\n",
              "        vertical-align: top;\n",
              "    }\n",
              "\n",
              "    .dataframe thead th {\n",
              "        text-align: right;\n",
              "    }\n",
              "</style>\n",
              "<table border=\"1\" class=\"dataframe\">\n",
              "  <thead>\n",
              "    <tr style=\"text-align: right;\">\n",
              "      <th></th>\n",
              "      <th>Team</th>\n",
              "      <th>World_cup_played</th>\n",
              "      <th>ODIs_played</th>\n",
              "    </tr>\n",
              "  </thead>\n",
              "  <tbody>\n",
              "    <tr>\n",
              "      <th>0</th>\n",
              "      <td>India</td>\n",
              "      <td>11</td>\n",
              "      <td>733</td>\n",
              "    </tr>\n",
              "    <tr>\n",
              "      <th>1</th>\n",
              "      <td>Australia</td>\n",
              "      <td>10</td>\n",
              "      <td>988</td>\n",
              "    </tr>\n",
              "    <tr>\n",
              "      <th>2</th>\n",
              "      <td>West Indies</td>\n",
              "      <td>11</td>\n",
              "      <td>712</td>\n",
              "    </tr>\n",
              "    <tr>\n",
              "      <th>3</th>\n",
              "      <td>Pakistan</td>\n",
              "      <td>9</td>\n",
              "      <td>679</td>\n",
              "    </tr>\n",
              "    <tr>\n",
              "      <th>4</th>\n",
              "      <td>Sri Lanka</td>\n",
              "      <td>8</td>\n",
              "      <td>662</td>\n",
              "    </tr>\n",
              "  </tbody>\n",
              "</table>\n",
              "</div>"
            ],
            "text/plain": [
              "          Team  World_cup_played  ODIs_played\n",
              "0        India                11          733\n",
              "1    Australia                10          988\n",
              "2  West Indies                11          712\n",
              "3     Pakistan                 9          679\n",
              "4    Sri Lanka                 8          662"
            ]
          },
          "execution_count": 28,
          "metadata": {},
          "output_type": "execute_result"
        }
      ],
      "source": [
        "df2"
      ]
    },
    {
      "cell_type": "code",
      "execution_count": null,
      "id": "f84c3b20",
      "metadata": {
        "ExecuteTime": {
          "end_time": "2022-04-13T15:13:48.747889Z",
          "start_time": "2022-04-13T15:13:48.700019Z"
        },
        "id": "f84c3b20",
        "outputId": "823765e9-0e9d-43ae-9ae7-75b11a4bc281"
      },
      "outputs": [
        {
          "data": {
            "text/html": [
              "<div>\n",
              "<style scoped>\n",
              "    .dataframe tbody tr th:only-of-type {\n",
              "        vertical-align: middle;\n",
              "    }\n",
              "\n",
              "    .dataframe tbody tr th {\n",
              "        vertical-align: top;\n",
              "    }\n",
              "\n",
              "    .dataframe thead th {\n",
              "        text-align: right;\n",
              "    }\n",
              "</style>\n",
              "<table border=\"1\" class=\"dataframe\">\n",
              "  <thead>\n",
              "    <tr style=\"text-align: right;\">\n",
              "      <th></th>\n",
              "      <th>Team</th>\n",
              "      <th>ICC_rank</th>\n",
              "      <th>World_champions_Year</th>\n",
              "      <th>Points</th>\n",
              "      <th>World_cup_played</th>\n",
              "      <th>ODIs_played</th>\n",
              "    </tr>\n",
              "  </thead>\n",
              "  <tbody>\n",
              "    <tr>\n",
              "      <th>0</th>\n",
              "      <td>India</td>\n",
              "      <td>2</td>\n",
              "      <td>2011</td>\n",
              "      <td>874</td>\n",
              "      <td>11</td>\n",
              "      <td>733</td>\n",
              "    </tr>\n",
              "    <tr>\n",
              "      <th>1</th>\n",
              "      <td>Australia</td>\n",
              "      <td>3</td>\n",
              "      <td>2015</td>\n",
              "      <td>787</td>\n",
              "      <td>10</td>\n",
              "      <td>988</td>\n",
              "    </tr>\n",
              "    <tr>\n",
              "      <th>2</th>\n",
              "      <td>West Indies</td>\n",
              "      <td>7</td>\n",
              "      <td>1979</td>\n",
              "      <td>753</td>\n",
              "      <td>11</td>\n",
              "      <td>712</td>\n",
              "    </tr>\n",
              "    <tr>\n",
              "      <th>3</th>\n",
              "      <td>Pakistan</td>\n",
              "      <td>8</td>\n",
              "      <td>1992</td>\n",
              "      <td>673</td>\n",
              "      <td>9</td>\n",
              "      <td>679</td>\n",
              "    </tr>\n",
              "    <tr>\n",
              "      <th>4</th>\n",
              "      <td>Sri Lanka</td>\n",
              "      <td>4</td>\n",
              "      <td>1996</td>\n",
              "      <td>855</td>\n",
              "      <td>8</td>\n",
              "      <td>662</td>\n",
              "    </tr>\n",
              "  </tbody>\n",
              "</table>\n",
              "</div>"
            ],
            "text/plain": [
              "          Team  ICC_rank  World_champions_Year  Points  World_cup_played  \\\n",
              "0        India         2                  2011     874                11   \n",
              "1    Australia         3                  2015     787                10   \n",
              "2  West Indies         7                  1979     753                11   \n",
              "3     Pakistan         8                  1992     673                 9   \n",
              "4    Sri Lanka         4                  1996     855                 8   \n",
              "\n",
              "   ODIs_played  \n",
              "0          733  \n",
              "1          988  \n",
              "2          712  \n",
              "3          679  \n",
              "4          662  "
            ]
          },
          "execution_count": 29,
          "metadata": {},
          "output_type": "execute_result"
        }
      ],
      "source": [
        "# merge df1 & df2 on Team column\n",
        "pd.merge(df1,df2,on='Team')"
      ]
    },
    {
      "cell_type": "markdown",
      "id": "446c90f6",
      "metadata": {
        "id": "446c90f6"
      },
      "source": [
        "## Joins - Left Join"
      ]
    },
    {
      "cell_type": "code",
      "execution_count": null,
      "id": "95dbc1be",
      "metadata": {
        "ExecuteTime": {
          "end_time": "2022-04-13T15:17:57.569431Z",
          "start_time": "2022-04-13T15:17:57.547848Z"
        },
        "id": "95dbc1be"
      },
      "outputs": [],
      "source": [
        "# champions & Chokers\n",
        "df1 = pd.DataFrame(world_champions)\n",
        "df2 = pd.DataFrame(chokers)"
      ]
    },
    {
      "cell_type": "code",
      "execution_count": null,
      "id": "0dcc8886",
      "metadata": {
        "ExecuteTime": {
          "end_time": "2022-04-13T15:18:00.425347Z",
          "start_time": "2022-04-13T15:18:00.405104Z"
        },
        "id": "0dcc8886",
        "outputId": "0fde7c4e-8dce-4f21-cefe-f2b1ab58f724"
      },
      "outputs": [
        {
          "data": {
            "text/html": [
              "<div>\n",
              "<style scoped>\n",
              "    .dataframe tbody tr th:only-of-type {\n",
              "        vertical-align: middle;\n",
              "    }\n",
              "\n",
              "    .dataframe tbody tr th {\n",
              "        vertical-align: top;\n",
              "    }\n",
              "\n",
              "    .dataframe thead th {\n",
              "        text-align: right;\n",
              "    }\n",
              "</style>\n",
              "<table border=\"1\" class=\"dataframe\">\n",
              "  <thead>\n",
              "    <tr style=\"text-align: right;\">\n",
              "      <th></th>\n",
              "      <th>Team</th>\n",
              "      <th>ICC_rank</th>\n",
              "      <th>World_champions_Year</th>\n",
              "      <th>Points</th>\n",
              "    </tr>\n",
              "  </thead>\n",
              "  <tbody>\n",
              "    <tr>\n",
              "      <th>0</th>\n",
              "      <td>India</td>\n",
              "      <td>2</td>\n",
              "      <td>2011</td>\n",
              "      <td>874</td>\n",
              "    </tr>\n",
              "    <tr>\n",
              "      <th>1</th>\n",
              "      <td>Australia</td>\n",
              "      <td>3</td>\n",
              "      <td>2015</td>\n",
              "      <td>787</td>\n",
              "    </tr>\n",
              "    <tr>\n",
              "      <th>2</th>\n",
              "      <td>West Indies</td>\n",
              "      <td>7</td>\n",
              "      <td>1979</td>\n",
              "      <td>753</td>\n",
              "    </tr>\n",
              "    <tr>\n",
              "      <th>3</th>\n",
              "      <td>Pakistan</td>\n",
              "      <td>8</td>\n",
              "      <td>1992</td>\n",
              "      <td>673</td>\n",
              "    </tr>\n",
              "    <tr>\n",
              "      <th>4</th>\n",
              "      <td>Sri Lanka</td>\n",
              "      <td>4</td>\n",
              "      <td>1996</td>\n",
              "      <td>855</td>\n",
              "    </tr>\n",
              "  </tbody>\n",
              "</table>\n",
              "</div>"
            ],
            "text/plain": [
              "          Team  ICC_rank  World_champions_Year  Points\n",
              "0        India         2                  2011     874\n",
              "1    Australia         3                  2015     787\n",
              "2  West Indies         7                  1979     753\n",
              "3     Pakistan         8                  1992     673\n",
              "4    Sri Lanka         4                  1996     855"
            ]
          },
          "execution_count": 31,
          "metadata": {},
          "output_type": "execute_result"
        }
      ],
      "source": [
        "df1"
      ]
    },
    {
      "cell_type": "code",
      "execution_count": null,
      "id": "617ed59f",
      "metadata": {
        "ExecuteTime": {
          "end_time": "2022-04-13T15:18:11.765607Z",
          "start_time": "2022-04-13T15:18:11.740794Z"
        },
        "id": "617ed59f",
        "outputId": "a8a7cef1-cce0-4922-a85a-19aded3f6be5"
      },
      "outputs": [
        {
          "data": {
            "text/html": [
              "<div>\n",
              "<style scoped>\n",
              "    .dataframe tbody tr th:only-of-type {\n",
              "        vertical-align: middle;\n",
              "    }\n",
              "\n",
              "    .dataframe tbody tr th {\n",
              "        vertical-align: top;\n",
              "    }\n",
              "\n",
              "    .dataframe thead th {\n",
              "        text-align: right;\n",
              "    }\n",
              "</style>\n",
              "<table border=\"1\" class=\"dataframe\">\n",
              "  <thead>\n",
              "    <tr style=\"text-align: right;\">\n",
              "      <th></th>\n",
              "      <th>Team</th>\n",
              "      <th>ICC_rank</th>\n",
              "      <th>Points</th>\n",
              "    </tr>\n",
              "  </thead>\n",
              "  <tbody>\n",
              "    <tr>\n",
              "      <th>0</th>\n",
              "      <td>South Africa</td>\n",
              "      <td>1</td>\n",
              "      <td>895</td>\n",
              "    </tr>\n",
              "    <tr>\n",
              "      <th>1</th>\n",
              "      <td>New Zealand</td>\n",
              "      <td>5</td>\n",
              "      <td>764</td>\n",
              "    </tr>\n",
              "    <tr>\n",
              "      <th>2</th>\n",
              "      <td>Zimbabwe</td>\n",
              "      <td>9</td>\n",
              "      <td>656</td>\n",
              "    </tr>\n",
              "  </tbody>\n",
              "</table>\n",
              "</div>"
            ],
            "text/plain": [
              "           Team  ICC_rank  Points\n",
              "0  South Africa         1     895\n",
              "1   New Zealand         5     764\n",
              "2      Zimbabwe         9     656"
            ]
          },
          "execution_count": 32,
          "metadata": {},
          "output_type": "execute_result"
        }
      ],
      "source": [
        "df2"
      ]
    },
    {
      "cell_type": "markdown",
      "id": "d07d20fc",
      "metadata": {
        "id": "d07d20fc"
      },
      "source": [
        "## Right Join"
      ]
    },
    {
      "cell_type": "code",
      "execution_count": null,
      "id": "675ce4af",
      "metadata": {
        "ExecuteTime": {
          "end_time": "2022-04-13T15:18:45.407558Z",
          "start_time": "2022-04-13T15:18:45.374028Z"
        },
        "id": "675ce4af",
        "outputId": "6343f502-64d4-4edc-daf2-b10ffe614d95"
      },
      "outputs": [
        {
          "data": {
            "text/html": [
              "<div>\n",
              "<style scoped>\n",
              "    .dataframe tbody tr th:only-of-type {\n",
              "        vertical-align: middle;\n",
              "    }\n",
              "\n",
              "    .dataframe tbody tr th {\n",
              "        vertical-align: top;\n",
              "    }\n",
              "\n",
              "    .dataframe thead th {\n",
              "        text-align: right;\n",
              "    }\n",
              "</style>\n",
              "<table border=\"1\" class=\"dataframe\">\n",
              "  <thead>\n",
              "    <tr style=\"text-align: right;\">\n",
              "      <th></th>\n",
              "      <th>Team</th>\n",
              "      <th>ICC_rank_x</th>\n",
              "      <th>World_champions_Year</th>\n",
              "      <th>Points_x</th>\n",
              "      <th>ICC_rank_y</th>\n",
              "      <th>Points_y</th>\n",
              "    </tr>\n",
              "  </thead>\n",
              "  <tbody>\n",
              "    <tr>\n",
              "      <th>0</th>\n",
              "      <td>South Africa</td>\n",
              "      <td>NaN</td>\n",
              "      <td>NaN</td>\n",
              "      <td>NaN</td>\n",
              "      <td>1</td>\n",
              "      <td>895</td>\n",
              "    </tr>\n",
              "    <tr>\n",
              "      <th>1</th>\n",
              "      <td>New Zealand</td>\n",
              "      <td>NaN</td>\n",
              "      <td>NaN</td>\n",
              "      <td>NaN</td>\n",
              "      <td>5</td>\n",
              "      <td>764</td>\n",
              "    </tr>\n",
              "    <tr>\n",
              "      <th>2</th>\n",
              "      <td>Zimbabwe</td>\n",
              "      <td>NaN</td>\n",
              "      <td>NaN</td>\n",
              "      <td>NaN</td>\n",
              "      <td>9</td>\n",
              "      <td>656</td>\n",
              "    </tr>\n",
              "  </tbody>\n",
              "</table>\n",
              "</div>"
            ],
            "text/plain": [
              "           Team  ICC_rank_x  World_champions_Year  Points_x  ICC_rank_y  \\\n",
              "0  South Africa         NaN                   NaN       NaN           1   \n",
              "1   New Zealand         NaN                   NaN       NaN           5   \n",
              "2      Zimbabwe         NaN                   NaN       NaN           9   \n",
              "\n",
              "   Points_y  \n",
              "0       895  \n",
              "1       764  \n",
              "2       656  "
            ]
          },
          "execution_count": 33,
          "metadata": {},
          "output_type": "execute_result"
        }
      ],
      "source": [
        "pd.merge(df1,df2,how='right',on='Team')"
      ]
    },
    {
      "cell_type": "markdown",
      "id": "5f1aa62d",
      "metadata": {
        "id": "5f1aa62d"
      },
      "source": [
        "## Inner Join"
      ]
    },
    {
      "cell_type": "code",
      "execution_count": null,
      "id": "c8abf091",
      "metadata": {
        "ExecuteTime": {
          "end_time": "2022-04-13T15:21:48.046264Z",
          "start_time": "2022-04-13T15:21:48.015199Z"
        },
        "id": "c8abf091",
        "outputId": "97f33dc3-c3b1-4a34-b5bb-c2fed8bca173"
      },
      "outputs": [
        {
          "data": {
            "text/html": [
              "<div>\n",
              "<style scoped>\n",
              "    .dataframe tbody tr th:only-of-type {\n",
              "        vertical-align: middle;\n",
              "    }\n",
              "\n",
              "    .dataframe tbody tr th {\n",
              "        vertical-align: top;\n",
              "    }\n",
              "\n",
              "    .dataframe thead th {\n",
              "        text-align: right;\n",
              "    }\n",
              "</style>\n",
              "<table border=\"1\" class=\"dataframe\">\n",
              "  <thead>\n",
              "    <tr style=\"text-align: right;\">\n",
              "      <th></th>\n",
              "      <th>Team</th>\n",
              "      <th>ICC_rank_x</th>\n",
              "      <th>World_champions_Year</th>\n",
              "      <th>Points_x</th>\n",
              "      <th>ICC_rank_y</th>\n",
              "      <th>Points_y</th>\n",
              "    </tr>\n",
              "  </thead>\n",
              "  <tbody>\n",
              "  </tbody>\n",
              "</table>\n",
              "</div>"
            ],
            "text/plain": [
              "Empty DataFrame\n",
              "Columns: [Team, ICC_rank_x, World_champions_Year, Points_x, ICC_rank_y, Points_y]\n",
              "Index: []"
            ]
          },
          "execution_count": 34,
          "metadata": {},
          "output_type": "execute_result"
        }
      ],
      "source": [
        "pd.merge(df1,df2,how='inner',on='Team')"
      ]
    },
    {
      "cell_type": "markdown",
      "id": "e988b440",
      "metadata": {
        "id": "e988b440"
      },
      "source": [
        "## Full Outer Join"
      ]
    },
    {
      "cell_type": "code",
      "execution_count": null,
      "id": "4bf2d594",
      "metadata": {
        "ExecuteTime": {
          "end_time": "2022-04-13T15:22:38.709032Z",
          "start_time": "2022-04-13T15:22:38.670035Z"
        },
        "id": "4bf2d594",
        "outputId": "8be7c31f-bb3e-4d3c-f77d-248c974c77c4"
      },
      "outputs": [
        {
          "data": {
            "text/html": [
              "<div>\n",
              "<style scoped>\n",
              "    .dataframe tbody tr th:only-of-type {\n",
              "        vertical-align: middle;\n",
              "    }\n",
              "\n",
              "    .dataframe tbody tr th {\n",
              "        vertical-align: top;\n",
              "    }\n",
              "\n",
              "    .dataframe thead th {\n",
              "        text-align: right;\n",
              "    }\n",
              "</style>\n",
              "<table border=\"1\" class=\"dataframe\">\n",
              "  <thead>\n",
              "    <tr style=\"text-align: right;\">\n",
              "      <th></th>\n",
              "      <th>Team</th>\n",
              "      <th>ICC_rank_x</th>\n",
              "      <th>World_champions_Year</th>\n",
              "      <th>Points_x</th>\n",
              "      <th>ICC_rank_y</th>\n",
              "      <th>Points_y</th>\n",
              "    </tr>\n",
              "  </thead>\n",
              "  <tbody>\n",
              "    <tr>\n",
              "      <th>0</th>\n",
              "      <td>India</td>\n",
              "      <td>2.0</td>\n",
              "      <td>2011.0</td>\n",
              "      <td>874.0</td>\n",
              "      <td>NaN</td>\n",
              "      <td>NaN</td>\n",
              "    </tr>\n",
              "    <tr>\n",
              "      <th>1</th>\n",
              "      <td>Australia</td>\n",
              "      <td>3.0</td>\n",
              "      <td>2015.0</td>\n",
              "      <td>787.0</td>\n",
              "      <td>NaN</td>\n",
              "      <td>NaN</td>\n",
              "    </tr>\n",
              "    <tr>\n",
              "      <th>2</th>\n",
              "      <td>West Indies</td>\n",
              "      <td>7.0</td>\n",
              "      <td>1979.0</td>\n",
              "      <td>753.0</td>\n",
              "      <td>NaN</td>\n",
              "      <td>NaN</td>\n",
              "    </tr>\n",
              "    <tr>\n",
              "      <th>3</th>\n",
              "      <td>Pakistan</td>\n",
              "      <td>8.0</td>\n",
              "      <td>1992.0</td>\n",
              "      <td>673.0</td>\n",
              "      <td>NaN</td>\n",
              "      <td>NaN</td>\n",
              "    </tr>\n",
              "    <tr>\n",
              "      <th>4</th>\n",
              "      <td>Sri Lanka</td>\n",
              "      <td>4.0</td>\n",
              "      <td>1996.0</td>\n",
              "      <td>855.0</td>\n",
              "      <td>NaN</td>\n",
              "      <td>NaN</td>\n",
              "    </tr>\n",
              "    <tr>\n",
              "      <th>5</th>\n",
              "      <td>South Africa</td>\n",
              "      <td>NaN</td>\n",
              "      <td>NaN</td>\n",
              "      <td>NaN</td>\n",
              "      <td>1.0</td>\n",
              "      <td>895.0</td>\n",
              "    </tr>\n",
              "    <tr>\n",
              "      <th>6</th>\n",
              "      <td>New Zealand</td>\n",
              "      <td>NaN</td>\n",
              "      <td>NaN</td>\n",
              "      <td>NaN</td>\n",
              "      <td>5.0</td>\n",
              "      <td>764.0</td>\n",
              "    </tr>\n",
              "    <tr>\n",
              "      <th>7</th>\n",
              "      <td>Zimbabwe</td>\n",
              "      <td>NaN</td>\n",
              "      <td>NaN</td>\n",
              "      <td>NaN</td>\n",
              "      <td>9.0</td>\n",
              "      <td>656.0</td>\n",
              "    </tr>\n",
              "  </tbody>\n",
              "</table>\n",
              "</div>"
            ],
            "text/plain": [
              "           Team  ICC_rank_x  World_champions_Year  Points_x  ICC_rank_y  \\\n",
              "0         India         2.0                2011.0     874.0         NaN   \n",
              "1     Australia         3.0                2015.0     787.0         NaN   \n",
              "2   West Indies         7.0                1979.0     753.0         NaN   \n",
              "3      Pakistan         8.0                1992.0     673.0         NaN   \n",
              "4     Sri Lanka         4.0                1996.0     855.0         NaN   \n",
              "5  South Africa         NaN                   NaN       NaN         1.0   \n",
              "6   New Zealand         NaN                   NaN       NaN         5.0   \n",
              "7      Zimbabwe         NaN                   NaN       NaN         9.0   \n",
              "\n",
              "   Points_y  \n",
              "0       NaN  \n",
              "1       NaN  \n",
              "2       NaN  \n",
              "3       NaN  \n",
              "4       NaN  \n",
              "5     895.0  \n",
              "6     764.0  \n",
              "7     656.0  "
            ]
          },
          "execution_count": 35,
          "metadata": {},
          "output_type": "execute_result"
        }
      ],
      "source": [
        "pd.merge(df1,df2,how='outer',on='Team')"
      ]
    },
    {
      "cell_type": "markdown",
      "id": "2919a30e",
      "metadata": {
        "id": "2919a30e"
      },
      "source": [
        "## Type Casting\n",
        "Changing the datatype of a variable from one type to another"
      ]
    },
    {
      "cell_type": "code",
      "execution_count": null,
      "id": "61666455",
      "metadata": {
        "ExecuteTime": {
          "end_time": "2022-04-13T15:26:47.321105Z",
          "start_time": "2022-04-13T15:26:47.308578Z"
        },
        "id": "61666455"
      },
      "outputs": [],
      "source": [
        "num = 12"
      ]
    },
    {
      "cell_type": "code",
      "execution_count": null,
      "id": "4bbf43c9",
      "metadata": {
        "ExecuteTime": {
          "end_time": "2022-04-13T15:26:53.868758Z",
          "start_time": "2022-04-13T15:26:53.845172Z"
        },
        "id": "4bbf43c9",
        "outputId": "c5960ee1-cc1d-4014-ac40-ea1098f006a5"
      },
      "outputs": [
        {
          "data": {
            "text/plain": [
              "int"
            ]
          },
          "execution_count": 37,
          "metadata": {},
          "output_type": "execute_result"
        }
      ],
      "source": [
        "type(num)"
      ]
    },
    {
      "cell_type": "code",
      "execution_count": null,
      "id": "3bd67271",
      "metadata": {
        "ExecuteTime": {
          "end_time": "2022-04-13T15:27:13.519933Z",
          "start_time": "2022-04-13T15:27:13.505418Z"
        },
        "id": "3bd67271"
      },
      "outputs": [],
      "source": [
        "fl_num = float(num)"
      ]
    },
    {
      "cell_type": "code",
      "execution_count": null,
      "id": "38caec36",
      "metadata": {
        "ExecuteTime": {
          "end_time": "2022-04-13T15:27:23.000990Z",
          "start_time": "2022-04-13T15:27:22.981067Z"
        },
        "id": "38caec36",
        "outputId": "926593fa-bd29-4a1f-aa70-6c5e59536ebb"
      },
      "outputs": [
        {
          "data": {
            "text/plain": [
              "float"
            ]
          },
          "execution_count": 39,
          "metadata": {},
          "output_type": "execute_result"
        }
      ],
      "source": [
        "type(fl_num)"
      ]
    },
    {
      "cell_type": "code",
      "execution_count": null,
      "id": "d25ad817",
      "metadata": {
        "ExecuteTime": {
          "end_time": "2022-04-13T15:27:40.460957Z",
          "start_time": "2022-04-13T15:27:40.445437Z"
        },
        "id": "d25ad817"
      },
      "outputs": [],
      "source": [
        "name = 'Data'"
      ]
    },
    {
      "cell_type": "code",
      "execution_count": null,
      "id": "be078c09",
      "metadata": {
        "ExecuteTime": {
          "end_time": "2022-04-13T15:27:47.572037Z",
          "start_time": "2022-04-13T15:27:47.556530Z"
        },
        "id": "be078c09",
        "outputId": "79fefe58-a532-4cd0-c35e-9bcc3555c177"
      },
      "outputs": [
        {
          "data": {
            "text/plain": [
              "str"
            ]
          },
          "execution_count": 41,
          "metadata": {},
          "output_type": "execute_result"
        }
      ],
      "source": [
        "type(name)"
      ]
    },
    {
      "cell_type": "code",
      "execution_count": null,
      "id": "aaa35624",
      "metadata": {
        "ExecuteTime": {
          "end_time": "2022-04-13T15:27:58.570218Z",
          "start_time": "2022-04-13T15:27:58.558672Z"
        },
        "id": "aaa35624"
      },
      "outputs": [],
      "source": [
        "num = 23"
      ]
    },
    {
      "cell_type": "code",
      "execution_count": null,
      "id": "f500a605",
      "metadata": {
        "ExecuteTime": {
          "end_time": "2022-04-13T15:28:13.940674Z",
          "start_time": "2022-04-13T15:28:13.922635Z"
        },
        "id": "f500a605"
      },
      "outputs": [],
      "source": [
        "str_num = str(num)"
      ]
    },
    {
      "cell_type": "code",
      "execution_count": null,
      "id": "d55f7674",
      "metadata": {
        "ExecuteTime": {
          "end_time": "2022-04-13T15:28:23.183454Z",
          "start_time": "2022-04-13T15:28:23.167985Z"
        },
        "id": "d55f7674",
        "outputId": "10871269-51df-41ae-fbd6-83453b2358af"
      },
      "outputs": [
        {
          "data": {
            "text/plain": [
              "str"
            ]
          },
          "execution_count": 44,
          "metadata": {},
          "output_type": "execute_result"
        }
      ],
      "source": [
        "type(str_num)"
      ]
    },
    {
      "cell_type": "code",
      "execution_count": null,
      "id": "c2566d8c",
      "metadata": {
        "ExecuteTime": {
          "end_time": "2022-04-13T15:28:32.382977Z",
          "start_time": "2022-04-13T15:28:32.368469Z"
        },
        "id": "c2566d8c",
        "outputId": "fce51880-ad42-48b9-d38a-69e6fd3c4b55"
      },
      "outputs": [
        {
          "data": {
            "text/plain": [
              "'23'"
            ]
          },
          "execution_count": 45,
          "metadata": {},
          "output_type": "execute_result"
        }
      ],
      "source": [
        "str_num"
      ]
    },
    {
      "cell_type": "code",
      "execution_count": null,
      "id": "ac84c998",
      "metadata": {
        "ExecuteTime": {
          "end_time": "2022-04-13T15:28:56.597955Z",
          "start_time": "2022-04-13T15:28:56.583902Z"
        },
        "id": "ac84c998"
      },
      "outputs": [],
      "source": [
        "num = int(str_num)"
      ]
    },
    {
      "cell_type": "code",
      "execution_count": null,
      "id": "3ca3f39a",
      "metadata": {
        "ExecuteTime": {
          "end_time": "2022-04-13T15:29:04.762528Z",
          "start_time": "2022-04-13T15:29:04.739508Z"
        },
        "id": "3ca3f39a",
        "outputId": "779beb41-e5a8-4f8e-8be8-23cefbd4cb0d"
      },
      "outputs": [
        {
          "data": {
            "text/plain": [
              "int"
            ]
          },
          "execution_count": 47,
          "metadata": {},
          "output_type": "execute_result"
        }
      ],
      "source": [
        "type(num)"
      ]
    },
    {
      "cell_type": "code",
      "execution_count": null,
      "id": "2ee15abd",
      "metadata": {
        "ExecuteTime": {
          "end_time": "2022-04-13T15:29:29.437008Z",
          "start_time": "2022-04-13T15:29:29.418980Z"
        },
        "id": "2ee15abd"
      },
      "outputs": [],
      "source": [
        "bool_var = True"
      ]
    },
    {
      "cell_type": "code",
      "execution_count": null,
      "id": "bf70969a",
      "metadata": {
        "ExecuteTime": {
          "end_time": "2022-04-13T15:29:52.395029Z",
          "start_time": "2022-04-13T15:29:52.381813Z"
        },
        "id": "bf70969a"
      },
      "outputs": [],
      "source": [
        "bool_int = int(bool_var)"
      ]
    },
    {
      "cell_type": "code",
      "execution_count": null,
      "id": "52de9bd4",
      "metadata": {
        "ExecuteTime": {
          "end_time": "2022-04-13T15:30:04.043398Z",
          "start_time": "2022-04-13T15:30:04.029876Z"
        },
        "id": "52de9bd4",
        "outputId": "8b73979c-421f-466e-9530-1c12b8895fed"
      },
      "outputs": [
        {
          "data": {
            "text/plain": [
              "1"
            ]
          },
          "execution_count": 50,
          "metadata": {},
          "output_type": "execute_result"
        }
      ],
      "source": [
        "bool_int"
      ]
    },
    {
      "cell_type": "code",
      "execution_count": null,
      "id": "a26a26fe",
      "metadata": {
        "ExecuteTime": {
          "end_time": "2022-04-13T15:31:12.372938Z",
          "start_time": "2022-04-13T15:31:12.358392Z"
        },
        "id": "a26a26fe"
      },
      "outputs": [],
      "source": [
        "name = 'ML'"
      ]
    },
    {
      "cell_type": "code",
      "execution_count": null,
      "id": "25eebe72",
      "metadata": {
        "ExecuteTime": {
          "end_time": "2022-04-13T15:31:31.800806Z",
          "start_time": "2022-04-13T15:31:31.722231Z"
        },
        "id": "25eebe72",
        "outputId": "ce709c8b-0f40-48d4-be25-0254bc2dc7ec"
      },
      "outputs": [
        {
          "ename": "ValueError",
          "evalue": "invalid literal for int() with base 10: 'ML'",
          "output_type": "error",
          "traceback": [
            "\u001b[1;31m---------------------------------------------------------------------------\u001b[0m",
            "\u001b[1;31mValueError\u001b[0m                                Traceback (most recent call last)",
            "\u001b[1;32m<ipython-input-52-50cf66b64199>\u001b[0m in \u001b[0;36m<module>\u001b[1;34m\u001b[0m\n\u001b[1;32m----> 1\u001b[1;33m \u001b[0mint_name\u001b[0m \u001b[1;33m=\u001b[0m \u001b[0mint\u001b[0m\u001b[1;33m(\u001b[0m\u001b[0mname\u001b[0m\u001b[1;33m)\u001b[0m\u001b[1;33m\u001b[0m\u001b[1;33m\u001b[0m\u001b[0m\n\u001b[0m",
            "\u001b[1;31mValueError\u001b[0m: invalid literal for int() with base 10: 'ML'"
          ]
        }
      ],
      "source": [
        "int_name = int(name)"
      ]
    },
    {
      "cell_type": "code",
      "execution_count": null,
      "id": "08a23902",
      "metadata": {
        "id": "08a23902"
      },
      "outputs": [],
      "source": [
        ""
      ]
    }
  ],
  "metadata": {
    "kernelspec": {
      "display_name": "Python 3",
      "language": "python",
      "name": "python3"
    },
    "language_info": {
      "codemirror_mode": {
        "name": "ipython",
        "version": 3
      },
      "file_extension": ".py",
      "mimetype": "text/x-python",
      "name": "python",
      "nbconvert_exporter": "python",
      "pygments_lexer": "ipython3",
      "version": "3.8.8"
    },
    "toc": {
      "base_numbering": 1,
      "nav_menu": {},
      "number_sections": true,
      "sideBar": true,
      "skip_h1_title": true,
      "title_cell": "Table of Contents",
      "title_sidebar": "Contents",
      "toc_cell": false,
      "toc_position": {},
      "toc_section_display": true,
      "toc_window_display": false
    },
    "colab": {
      "name": "DEMO_5_ICC_DATA_MANIPULATION.ipynb",
      "provenance": [],
      "include_colab_link": true
    }
  },
  "nbformat": 4,
  "nbformat_minor": 5
}